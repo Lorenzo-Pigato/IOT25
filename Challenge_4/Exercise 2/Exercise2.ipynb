{
  "nbformat": 4,
  "nbformat_minor": 0,
  "metadata": {
    "colab": {
      "provenance": []
    },
    "kernelspec": {
      "name": "python3",
      "display_name": "Python 3"
    },
    "language_info": {
      "name": "python"
    }
  },
  "cells": [
    {
      "cell_type": "markdown",
      "source": [
        "## Exercise\n",
        "Authors:\n",
        "\n",
        "Abate Kevin: **10812892**\n",
        "\n",
        "Pigato Lorenzo: **10766953** [Team Leader]\n",
        "\n",
        "## EQ2\n",
        "Consider the following pseudocode for a ESP32-based IoT monitoring system\n",
        "\n",
        "``` python3\n",
        "// Global Timer Handle\n",
        "declare timer_handle as esp_timer_handle_t\n",
        "\n",
        "// Initialization\n",
        "function setup_camera():\n",
        "    initialize_camera(QVGA)\n",
        "\n",
        "function app_main():\n",
        "    call setup_camera()\n",
        "    call setup_timer()\n",
        "    loop forever:\n",
        "        delay(100 ms)\n",
        "\n",
        "function setup_timer():\n",
        "    declare timer_config as esp_timer_create_args_t\n",
        "    set timer_config.callback to process_frame\n",
        "    set timer_config.name to \"10_sec_timer\"\n",
        "    call esp_timer_create(&timer_config,\n",
        "    &timer_handle)\n",
        "    call esp_timer_start_periodic(timer_handle,10_000_000) // 10s\n",
        "\n",
        "// Called every 10 seconds\n",
        "function process_frame(arg):\n",
        "    image = capture_camera_frame()\n",
        "    person_count = estimate_number_of_people(image)\n",
        "    if person_count == 0:\n",
        "        payload = create_message(size=1KB)\n",
        "    else if person_count == 1:\n",
        "        payload = create_message(size=3KB)\n",
        "    else:\n",
        "        payload = create_message(size=6KB)\n",
        "```"
      ],
      "metadata": {
        "id": "8fFTjgTct8po"
      }
    },
    {
      "cell_type": "markdown",
      "source": [
        "## Assuptions\n",
        "- The system is operated with IEEE 802.15.4 in beacon-enabled mode (CFP only)\n",
        "- The number of people present in the camera frame at any instant follows a Poisson distribution with an average rate of lambda = 0.15 persons/frame"
      ],
      "metadata": {
        "id": "rm_TaG0suHKG"
      }
    },
    {
      "cell_type": "markdown",
      "source": [
        " ### Libraries"
      ],
      "metadata": {
        "id": "v3CVhxyXvl_8"
      }
    },
    {
      "cell_type": "code",
      "source": [
        "import math"
      ],
      "metadata": {
        "id": "MkosXNxKwx_K"
      },
      "execution_count": 46,
      "outputs": []
    },
    {
      "cell_type": "markdown",
      "source": [
        "## First Question\n",
        ">Compute the Probability Mass Function of the output rate of the ESP32 P(r = r_0), P(r = r_1), P(r = r_2), where r_0, r_1 and r_2 are the output rates when there are 0, 1 or more than 1 persons in the captured frame, respectively."
      ],
      "metadata": {
        "id": "21BnnFSquIXD"
      }
    },
    {
      "cell_type": "code",
      "source": [
        "Lambda = 0.15 # person/frame\n",
        "time_period = 10 #second\n",
        "\n",
        "message_size_0_person = 1 #KB\n",
        "\n",
        "message_size_1_person = 3 #KB\n",
        "\n",
        "message_size_over_2_person = 6 #KB"
      ],
      "metadata": {
        "id": "r6hBjS08uKjq"
      },
      "execution_count": 47,
      "outputs": []
    },
    {
      "cell_type": "code",
      "source": [
        "r0 = 1 / time_period  #KB/s\n",
        "r1 = 3 / time_period  #KB/s\n",
        "r2 = 6 / time_period  #KB/s"
      ],
      "metadata": {
        "id": "c0Hra4AH03X7"
      },
      "execution_count": 48,
      "outputs": []
    },
    {
      "cell_type": "markdown",
      "source": [
        "Calculate the **Poisson Probabilities**"
      ],
      "metadata": {
        "id": "MxAvNMzEuwUt"
      }
    },
    {
      "cell_type": "code",
      "source": [
        "results=[]\n",
        "for x in range(2):\n",
        "  p_x = (math.exp(-Lambda) * (Lambda**x)) / math.factorial(x)\n",
        "  results.append(p_x)\n",
        "\n",
        "for x in range(2):\n",
        "  print(f\"P(r = {x}) = {results[x]}\")\n",
        "\n",
        "p_over_2_person = 1 - (results[0] + results[1])\n",
        "print(f\"P(r >= 2) = {p_over_2_person}\")\n"
      ],
      "metadata": {
        "colab": {
          "base_uri": "https://localhost:8080/"
        },
        "id": "C-exqV_qu2r3",
        "outputId": "0c317dbb-1a14-44c3-cb9c-b1ac5947adef"
      },
      "execution_count": 49,
      "outputs": [
        {
          "output_type": "stream",
          "name": "stdout",
          "text": [
            "P(r = 0) = 0.8607079764250578\n",
            "P(r = 1) = 0.12910619646375868\n",
            "P(r >= 2) = 0.010185827111183543\n"
          ]
        }
      ]
    },
    {
      "cell_type": "markdown",
      "source": [
        "## Second Question\n",
        ">Based on the output rate PMF, compute a consistent slot assignment for the CFP in a monitoring system composed of 1 PAN coordinator and 3 camera nodes. Assume nominal bit rate R=250kbps, packets of L=128bytes, 1 packet fits exactly in one slot. Compute Ts (slot time), Number of slots in the CFP, Tactive, Tinactive and the duty cycle of the system."
      ],
      "metadata": {
        "id": "PwEwDbeUzVYS"
      }
    },
    {
      "cell_type": "code",
      "source": [
        "num_camera_nodes = 3\n",
        "\n",
        "num_nodes = num_camera_nodes + 1 # 3 camera nodes + 1 PAN coordinator\n",
        "\n",
        "nominal_bit_rate_R = 250 * 1000 # bps\n",
        "\n",
        "packet_size_L = 128 # bytes\n",
        "\n",
        "bytes_to_bits = 8\n"
      ],
      "metadata": {
        "id": "jSh4X6T9za3K"
      },
      "execution_count": 50,
      "outputs": []
    },
    {
      "cell_type": "code",
      "source": [
        "Ts = (packet_size_L * bytes_to_bits)*1e3 / nominal_bit_rate_R\n",
        "print(f\"\\nTs (slot time): {Ts:.3f} ms\")"
      ],
      "metadata": {
        "colab": {
          "base_uri": "https://localhost:8080/"
        },
        "id": "XbN5ieI40Uu5",
        "outputId": "6eb322ff-11ca-4a4f-ef35-91e332648c8f"
      },
      "execution_count": 51,
      "outputs": [
        {
          "output_type": "stream",
          "name": "stdout",
          "text": [
            "\n",
            "Ts (slot time): 4.096 ms\n"
          ]
        }
      ]
    },
    {
      "cell_type": "code",
      "source": [
        "E_r = (r0 * results[0]) + (r1 * results[1]) + (r2 * p_over_2_person)\n",
        "\n",
        "print(f\"\\nExpected output rate E[r]: {E_r:.4f} KB/s per node\")"
      ],
      "metadata": {
        "colab": {
          "base_uri": "https://localhost:8080/"
        },
        "id": "fuMnCxiX1dj-",
        "outputId": "921814eb-f217-4e57-c933-7b2da95fc86b"
      },
      "execution_count": 52,
      "outputs": [
        {
          "output_type": "stream",
          "name": "stdout",
          "text": [
            "\n",
            "Expected output rate E[r]: 0.1309 KB/s per node\n"
          ]
        }
      ]
    },
    {
      "cell_type": "code",
      "source": [
        "min_output_rate_bits_per_sec = r0 * 8 * 1000  # Convert KB/s to bits/s\n",
        "BI = (packet_size_L * bytes_to_bits) / min_output_rate_bits_per_sec\n",
        "BI_ms = BI * 1000  # Convert to ms\n",
        "print(f\"BI (Beacon Interval): {BI:.2f} s = {BI_ms:.2f} ms\")"
      ],
      "metadata": {
        "colab": {
          "base_uri": "https://localhost:8080/"
        },
        "id": "cWmdar1BWwdX",
        "outputId": "e6b743b9-faa6-4fe0-d137-9e95216f5119"
      },
      "execution_count": 53,
      "outputs": [
        {
          "output_type": "stream",
          "name": "stdout",
          "text": [
            "BI (Beacon Interval): 1.28 s = 1280.00 ms\n"
          ]
        }
      ]
    },
    {
      "cell_type": "code",
      "source": [
        "expected_total_rate = num_camera_nodes * E_r\n",
        "print(f\"Total expected rate for {num_camera_nodes} nodes: {expected_total_rate:.5f} KB/s\")"
      ],
      "metadata": {
        "colab": {
          "base_uri": "https://localhost:8080/"
        },
        "id": "y-bbhWsx1mQ_",
        "outputId": "9f6e1acb-2a12-4ebe-ac46-ac1ccef54083"
      },
      "execution_count": 54,
      "outputs": [
        {
          "output_type": "stream",
          "name": "stdout",
          "text": [
            "Total expected rate for 3 nodes: 0.39274 KB/s\n"
          ]
        }
      ]
    },
    {
      "cell_type": "code",
      "source": [
        "worst_case_rate_per_node = r2  # 0.6 KB/s per node\n",
        "packets_per_BI_per_node = math.ceil((worst_case_rate_per_node * BI * 1000) / packet_size_L)\n",
        "Ncfp = num_camera_nodes * packets_per_BI_per_node\n",
        "print(f\"\\nTotal worst-case packets per superframe: {Ncfp} packets\")"
      ],
      "metadata": {
        "colab": {
          "base_uri": "https://localhost:8080/"
        },
        "id": "6miaHgXj2CiN",
        "outputId": "e075086d-e413-4077-a797-c02480a1de59"
      },
      "execution_count": 55,
      "outputs": [
        {
          "output_type": "stream",
          "name": "stdout",
          "text": [
            "\n",
            "Total worst-case packets per superframe: 18 packets\n"
          ]
        }
      ]
    },
    {
      "cell_type": "code",
      "source": [
        "# Calculate active and inactive times\n",
        "active_time = (Ncfp + 1) * Ts  # +1 for beacon frame\n",
        "inactive_time = BI_ms - active_time\n",
        "print(f\"Tactive: {active_time:.3f} ms\")\n",
        "print(f\"Tinactive: {inactive_time:.3f} ms\")"
      ],
      "metadata": {
        "colab": {
          "base_uri": "https://localhost:8080/"
        },
        "id": "kRItEnBSageL",
        "outputId": "809ed790-d998-4e34-9740-9ed61502d197"
      },
      "execution_count": 65,
      "outputs": [
        {
          "output_type": "stream",
          "name": "stdout",
          "text": [
            "Tactive: 77.824 ms\n",
            "Tinactive: 1202.176 ms\n"
          ]
        }
      ]
    },
    {
      "cell_type": "code",
      "source": [
        "#The Ncfp solts plus the beacon slot * time slot\n",
        "duty_cycle = (active_time / BI_ms) * 100\n",
        "print(f\"Duty cycle: {duty_cycle:.2f}%\")"
      ],
      "metadata": {
        "colab": {
          "base_uri": "https://localhost:8080/"
        },
        "id": "QM-E7Hql3ujO",
        "outputId": "74819ae3-0112-4535-c1e1-6d1c8cd4387f"
      },
      "execution_count": 66,
      "outputs": [
        {
          "output_type": "stream",
          "name": "stdout",
          "text": [
            "Duty cycle: 6.08%\n"
          ]
        }
      ]
    },
    {
      "cell_type": "markdown",
      "source": [
        "### Third Question\n",
        ">How many additional cameras can be added to keep the duty cycle below 10%?"
      ],
      "metadata": {
        "id": "2TaaStXj7L4O"
      }
    },
    {
      "cell_type": "code",
      "source": [
        "max_active_time = BI_ms * 0.1\n",
        "print(f\"\\nMax active time for 10% duty cycle: {max_active_time:.3f} ms\")"
      ],
      "metadata": {
        "colab": {
          "base_uri": "https://localhost:8080/"
        },
        "id": "7-yIw6PPZEba",
        "outputId": "41ed1415-5932-4916-d8f7-a8a8e20e2a6e"
      },
      "execution_count": 58,
      "outputs": [
        {
          "output_type": "stream",
          "name": "stdout",
          "text": [
            "\n",
            "Max active time for 10% duty cycle: 128.000 ms\n"
          ]
        }
      ]
    },
    {
      "cell_type": "code",
      "source": [
        "max_slots = math.floor(max_active_time / Ts) - 1  # -1 for beacon frame\n",
        "print(f\"Maximum available slots: {max_slots}\")"
      ],
      "metadata": {
        "colab": {
          "base_uri": "https://localhost:8080/"
        },
        "id": "pSKuQIiuZITh",
        "outputId": "fda6fd65-d8ee-4fe5-ce32-ac0782f5588c"
      },
      "execution_count": 60,
      "outputs": [
        {
          "output_type": "stream",
          "name": "stdout",
          "text": [
            "Maximum available slots: 30\n"
          ]
        }
      ]
    },
    {
      "cell_type": "code",
      "source": [
        "max_cameras = math.floor(max_slots / packets_per_BI_per_node)\n",
        "print(f\"Maximum number of cameras: {max_cameras}\")"
      ],
      "metadata": {
        "colab": {
          "base_uri": "https://localhost:8080/"
        },
        "id": "as2l5A3nZGkX",
        "outputId": "002f252a-9f22-4295-af68-5fcf48698a89"
      },
      "execution_count": 61,
      "outputs": [
        {
          "output_type": "stream",
          "name": "stdout",
          "text": [
            "Maximum number of cameras: 5\n"
          ]
        }
      ]
    },
    {
      "cell_type": "code",
      "source": [
        "additional_cameras = max_cameras - num_camera_nodes\n",
        "print(f\"Additional cameras that can be added: {additional_cameras}\")"
      ],
      "metadata": {
        "colab": {
          "base_uri": "https://localhost:8080/"
        },
        "id": "9LAuOuMIZN5a",
        "outputId": "f3f23cd7-da01-4682-8b74-f0fa6f362258"
      },
      "execution_count": 62,
      "outputs": [
        {
          "output_type": "stream",
          "name": "stdout",
          "text": [
            "Additional cameras that can be added: 2\n"
          ]
        }
      ]
    },
    {
      "cell_type": "code",
      "source": [
        "new_total_cameras = num_camera_nodes + additional_cameras\n",
        "new_total_packets = new_total_cameras * packets_per_BI_per_node\n",
        "new_active_time = (new_total_packets + 1) * Ts  # +1 for beacon frame\n",
        "new_duty_cycle = (new_active_time / BI_ms) * 100\n",
        "print(f\"New duty cycle with {new_total_cameras} cameras: {new_duty_cycle:.2f}%\")"
      ],
      "metadata": {
        "colab": {
          "base_uri": "https://localhost:8080/"
        },
        "id": "TvtdcnLeZaht",
        "outputId": "4212f823-81bb-4f3d-aaf0-e7717a07dfd9"
      },
      "execution_count": 63,
      "outputs": [
        {
          "output_type": "stream",
          "name": "stdout",
          "text": [
            "New duty cycle with 5 cameras: 9.92%\n"
          ]
        }
      ]
    },
    {
      "cell_type": "code",
      "source": [
        "verify_cameras = new_total_cameras + 1\n",
        "verify_total_packets = verify_cameras * packets_per_BI_per_node\n",
        "verify_active_time = (verify_total_packets + 1) * Ts  # +1 for beacon frame\n",
        "verify_duty_cycle = (verify_active_time / BI_ms) * 100\n",
        "print(f\"Duty cycle with {verify_cameras} cameras: {verify_duty_cycle:.2f}%\")\n"
      ],
      "metadata": {
        "colab": {
          "base_uri": "https://localhost:8080/"
        },
        "id": "eTn3jjPpZfLT",
        "outputId": "947de6bc-9ffc-4dbc-be36-4334f24c8a84"
      },
      "execution_count": 64,
      "outputs": [
        {
          "output_type": "stream",
          "name": "stdout",
          "text": [
            "Duty cycle with 6 cameras: 11.84%\n"
          ]
        }
      ]
    }
  ]
}