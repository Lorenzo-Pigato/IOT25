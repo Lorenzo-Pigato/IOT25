{
  "nbformat": 4,
  "nbformat_minor": 0,
  "metadata": {
    "colab": {
      "provenance": []
    },
    "kernelspec": {
      "name": "python3",
      "display_name": "Python 3"
    },
    "language_info": {
      "name": "python"
    }
  },
  "cells": [
    {
      "cell_type": "markdown",
      "source": [
        "## Exercise\n",
        "Authors:\n",
        "\n",
        "Abate Kevin: **10812892**\n",
        "\n",
        "Pigato Lorenzo: **10766953** [Team Leader]\n",
        "\n",
        "## EQ2\n",
        "Consider the following pseudocode for a ESP32-based IoT monitoring system\n",
        "\n",
        "``` python3\n",
        "// Global Timer Handle\n",
        "declare timer_handle as esp_timer_handle_t\n",
        "\n",
        "// Initialization\n",
        "function setup_camera():\n",
        "    initialize_camera(QVGA)\n",
        "\n",
        "function app_main():\n",
        "    call setup_camera()\n",
        "    call setup_timer()\n",
        "    loop forever:\n",
        "        delay(100 ms)\n",
        "\n",
        "function setup_timer():\n",
        "    declare timer_config as esp_timer_create_args_t\n",
        "    set timer_config.callback to process_frame\n",
        "    set timer_config.name to \"10_sec_timer\"\n",
        "    call esp_timer_create(&timer_config,\n",
        "    &timer_handle)\n",
        "    call esp_timer_start_periodic(timer_handle,10_000_000) // 10s\n",
        "\n",
        "// Called every 10 seconds\n",
        "function process_frame(arg):\n",
        "    image = capture_camera_frame()\n",
        "    person_count = estimate_number_of_people(image)\n",
        "    if person_count == 0:\n",
        "        payload = create_message(size=1KB)\n",
        "    else if person_count == 1:\n",
        "        payload = create_message(size=3KB)\n",
        "    else:\n",
        "        payload = create_message(size=6KB)\n",
        "```"
      ],
      "metadata": {
        "id": "8fFTjgTct8po"
      }
    },
    {
      "cell_type": "markdown",
      "source": [
        "## Assuptions\n",
        "- The system is operated with IEEE 802.15.4 in beacon-enabled mode (CFP only)\n",
        "- The number of people present in the camera frame at any instant follows a Poisson distribution with an average rate of lambda = 0.15 persons/frame"
      ],
      "metadata": {
        "id": "rm_TaG0suHKG"
      }
    },
    {
      "cell_type": "markdown",
      "source": [
        " ### Libraries"
      ],
      "metadata": {
        "id": "v3CVhxyXvl_8"
      }
    },
    {
      "cell_type": "code",
      "source": [
        "import math"
      ],
      "metadata": {
        "id": "MkosXNxKwx_K"
      },
      "execution_count": null,
      "outputs": []
    },
    {
      "cell_type": "markdown",
      "source": [
        "## First question\n",
        ">Compute the Probability Mass Function of the output rate of the ESP32 P(r = r_0), P(r = r_1), P(r = r_2), where r_0, r_1 and r_2 are the output rates when there are 0, 1 or more than 1 persons in the captured frame, respectively."
      ],
      "metadata": {
        "id": "21BnnFSquIXD"
      }
    },
    {
      "cell_type": "code",
      "source": [
        "Lambda = 0.15 # person/frame\n",
        "time_period = 10 #second\n",
        "\n",
        "message_size_0_person = 1 #KB\n",
        "\n",
        "message_size_1_person = 3 #KB\n",
        "\n",
        "message_size_over_2_person = 6 #KB"
      ],
      "metadata": {
        "id": "r6hBjS08uKjq"
      },
      "execution_count": 41,
      "outputs": []
    },
    {
      "cell_type": "code",
      "source": [
        "r0 = 1 / time_period  #KB/s\n",
        "r1 = 3 / time_period  #KB/s\n",
        "r2 = 6 / time_period  #KB/s"
      ],
      "metadata": {
        "id": "c0Hra4AH03X7"
      },
      "execution_count": 42,
      "outputs": []
    },
    {
      "cell_type": "markdown",
      "source": [
        "Calculate the **Poisson Probabilities**"
      ],
      "metadata": {
        "id": "MxAvNMzEuwUt"
      }
    },
    {
      "cell_type": "code",
      "source": [
        "results=[]\n",
        "for x in range(2):\n",
        "  p_x = (math.exp(-Lambda) * (Lambda**x)) / math.factorial(x)\n",
        "  results.append(p_x)\n",
        "\n",
        "for x in range(2):\n",
        "  print(f\"P(r = {x}) = {results[x]}\")\n",
        "\n",
        "p_over_2_person = 1 - (results[0] + results[1])\n",
        "print(f\"P(r >= 2) = {p_over_2_person}\")\n"
      ],
      "metadata": {
        "colab": {
          "base_uri": "https://localhost:8080/"
        },
        "id": "C-exqV_qu2r3",
        "outputId": "99b249b1-eb46-4c9b-f230-5dbb09b1c10c"
      },
      "execution_count": 43,
      "outputs": [
        {
          "output_type": "stream",
          "name": "stdout",
          "text": [
            "P(r = 0) = 0.8607079764250578\n",
            "P(r = 1) = 0.12910619646375868\n",
            "P(r >= 2) = 0.010185827111183543\n"
          ]
        }
      ]
    },
    {
      "cell_type": "markdown",
      "source": [
        "## Second Question\n",
        ">Based on the output rate PMF, compute a consistent slot assignment for the CFP in a monitoring system composed of 1 PAN coordinator and 3 camera nodes. Assume nominal bit rate R=250kbps, packets of L=128bytes, 1 packet fits exactly in one slot. Compute Ts (slot time), Number of slots in the CFP, Tactive, Tinactive and the duty cycle of the system."
      ],
      "metadata": {
        "id": "PwEwDbeUzVYS"
      }
    },
    {
      "cell_type": "code",
      "source": [
        "num_camera_nodes = 3\n",
        "\n",
        "num_nodes = num_camera_nodes + 1 # 3 camera nodes + 1 PAN coordinator\n",
        "\n",
        "nominal_bit_rate_R = 250 * 1000 # bps\n",
        "\n",
        "packet_size_L = 128 # bytes\n",
        "\n",
        "bytes_to_bits = 8\n",
        "\n",
        "superframe_time = 10 * 1e3 #ms"
      ],
      "metadata": {
        "id": "jSh4X6T9za3K"
      },
      "execution_count": 44,
      "outputs": []
    },
    {
      "cell_type": "code",
      "source": [
        "Ts = (packet_size_L * bytes_to_bits)*1e3 / nominal_bit_rate_R\n",
        "print(f\"\\nTs (slot time): {Ts:.6f} ms\")\n"
      ],
      "metadata": {
        "colab": {
          "base_uri": "https://localhost:8080/"
        },
        "id": "XbN5ieI40Uu5",
        "outputId": "59dc0248-516d-41cd-c1d7-5c92ab9694fd"
      },
      "execution_count": 45,
      "outputs": [
        {
          "output_type": "stream",
          "name": "stdout",
          "text": [
            "\n",
            "Ts (slot time): 4.096000 ms\n"
          ]
        }
      ]
    },
    {
      "cell_type": "code",
      "source": [
        "E_r = (r0 * results[0]) + (r1 * results[1]) + (r2 * p_over_2_person)\n",
        "\n",
        "print(f\"\\nExpected output rate E[r]: {E_r:.4f} KB/s per node\")"
      ],
      "metadata": {
        "colab": {
          "base_uri": "https://localhost:8080/"
        },
        "id": "fuMnCxiX1dj-",
        "outputId": "10008812-d18d-4be8-c5c4-e2a5e7014a4b"
      },
      "execution_count": 46,
      "outputs": [
        {
          "output_type": "stream",
          "name": "stdout",
          "text": [
            "\n",
            "Expected output rate E[r]: 0.1309 KB/s per node\n"
          ]
        }
      ]
    },
    {
      "cell_type": "code",
      "source": [
        "expected_total_rate = num_camera_nodes * E_r\n",
        "print(f\"Total expected rate for {num_camera_nodes} nodes: {expected_total_rate:.5f} KB/s\")"
      ],
      "metadata": {
        "colab": {
          "base_uri": "https://localhost:8080/"
        },
        "id": "y-bbhWsx1mQ_",
        "outputId": "d556e51e-f8b6-4dfe-88e8-c6cc680624f0"
      },
      "execution_count": 47,
      "outputs": [
        {
          "output_type": "stream",
          "name": "stdout",
          "text": [
            "Total expected rate for 3 nodes: 0.39274 KB/s\n"
          ]
        }
      ]
    },
    {
      "cell_type": "code",
      "source": [
        "worst_case_rate_per_node = 6 # KB every 10 seconds\n",
        "total_worst_case_rate = num_camera_nodes * worst_case_rate_per_node\n",
        "print(f\"\\nTotal worst-case rate for {num_camera_nodes} nodes: {total_worst_case_rate} KB every 10 seconds\")"
      ],
      "metadata": {
        "colab": {
          "base_uri": "https://localhost:8080/"
        },
        "id": "6miaHgXj2CiN",
        "outputId": "490c3b98-5023-4b0f-a987-c57476682aa2"
      },
      "execution_count": null,
      "outputs": [
        {
          "output_type": "stream",
          "name": "stdout",
          "text": [
            "\n",
            "Total worst-case rate for 3 nodes: 18 KB every 10 seconds\n"
          ]
        }
      ]
    },
    {
      "cell_type": "code",
      "source": [
        "worst_case_pacekts_per_superframe = total_worst_case_rate / (packet_size_L / 1e3)\n",
        "\n",
        "Ncfp = math.floor(worst_case_pacekts_per_superframe) + 1\n",
        "\n",
        "print(f\"\\nTotal worst-case packets per superframe: {Ncfp} packets\")"
      ],
      "metadata": {
        "colab": {
          "base_uri": "https://localhost:8080/"
        },
        "id": "kS27DA2d2Wur",
        "outputId": "faad2ce8-feed-427e-960f-e96fed18aa1f"
      },
      "execution_count": 48,
      "outputs": [
        {
          "output_type": "stream",
          "name": "stdout",
          "text": [
            "\n",
            "Total worst-case packets per superframe: 141 packets\n"
          ]
        }
      ]
    },
    {
      "cell_type": "code",
      "source": [
        "#The Ncfp solts plus the beacon slot * time slot\n",
        "active_time = (Ncfp+1) * Ts\n",
        "print(f\"\\nTotal active time: {active_time:.4f} ms\")\n",
        "\n",
        "inactive_time = superframe_time - active_time\n",
        "print(f\"Total inactive time: {inactive_time:.4f} ms\")\n",
        "\n",
        "duty_cycle = (active_time / superframe_time) * 100\n",
        "print(f\"Duty cycle: {duty_cycle:.4f} %\")"
      ],
      "metadata": {
        "colab": {
          "base_uri": "https://localhost:8080/"
        },
        "id": "QM-E7Hql3ujO",
        "outputId": "b934dacf-e4ff-4e9f-ff9c-503ce9911e74"
      },
      "execution_count": 49,
      "outputs": [
        {
          "output_type": "stream",
          "name": "stdout",
          "text": [
            "\n",
            "Total active time: 581.6320 ms\n",
            "Total inactive time: 9418.3680 ms\n",
            "Duty cycle: 5.8163 %\n"
          ]
        }
      ]
    },
    {
      "cell_type": "markdown",
      "source": [
        "### Third Exercise\n",
        ">How many additional cameras can be added to keep the duty cycle below 10%?"
      ],
      "metadata": {
        "id": "2TaaStXj7L4O"
      }
    },
    {
      "cell_type": "code",
      "source": [
        "packets = worst_case_rate_per_node * 1000 / packet_size_L\n",
        "\n",
        "packets = math.floor(packets) + 1\n",
        "\n",
        "print(f\"Total packets: {packets}\")\n",
        "\n",
        "max_active_time = superframe_time * 0.1\n",
        "\n",
        "max_slots = max_active_time / Ts\n",
        "\n",
        "max_slots = math.floor(max_slots)\n",
        "\n",
        "print(f\"Maximum slots: {max_slots}\")"
      ],
      "metadata": {
        "colab": {
          "base_uri": "https://localhost:8080/"
        },
        "id": "bs1lEXf08HS0",
        "outputId": "5177cd1a-caa5-45d7-f8e5-adae610e9bfe"
      },
      "execution_count": 60,
      "outputs": [
        {
          "output_type": "stream",
          "name": "stdout",
          "text": [
            "Total packets: 47\n",
            "Maximum slots: 244\n"
          ]
        }
      ]
    },
    {
      "cell_type": "code",
      "source": [
        "maximum_camera = max_slots / packets\n",
        "\n",
        "maximum_camera = math.floor(maximum_camera)\n",
        "\n",
        "print(f\"Maximum camera: {maximum_camera}\")"
      ],
      "metadata": {
        "colab": {
          "base_uri": "https://localhost:8080/"
        },
        "id": "d83yNph08viG",
        "outputId": "59a122d2-d667-4b1e-bb37-b71dae091cba"
      },
      "execution_count": 61,
      "outputs": [
        {
          "output_type": "stream",
          "name": "stdout",
          "text": [
            "Maximum camera: 5\n"
          ]
        }
      ]
    },
    {
      "cell_type": "code",
      "source": [
        "tot_slot_updated = maximum_camera * packets\n",
        "\n",
        "new_active_time = (tot_slot_updated+1) * Ts\n",
        "\n",
        "new_inactive_time = superframe_time - new_active_time\n",
        "\n",
        "new_duty_cycle = (new_active_time / superframe_time) * 100\n",
        "\n",
        "print(f\"New duty cycle: {new_duty_cycle:.4f} %\")"
      ],
      "metadata": {
        "colab": {
          "base_uri": "https://localhost:8080/"
        },
        "id": "JM5SV9FN9_ST",
        "outputId": "51fe1fe6-cc9e-4264-abcd-0de6be42d1bc"
      },
      "execution_count": 62,
      "outputs": [
        {
          "output_type": "stream",
          "name": "stdout",
          "text": [
            "New duty cycle: 9.6666 %\n"
          ]
        }
      ]
    },
    {
      "cell_type": "markdown",
      "source": [
        "We can conlude that the max number of cameras that we add is equal to 2.\n",
        "Below we can notice the proof that with 3 cameras the dury cycle over the 10%."
      ],
      "metadata": {
        "id": "JFn_r9Xz-9Up"
      }
    },
    {
      "cell_type": "code",
      "source": [
        "cameras_over_the_boundaries = maximum_camera + 1\n",
        "\n",
        "tot_slot_updated_updated = cameras_over_the_boundaries * packets\n",
        "\n",
        "new_active_time = (tot_slot_updated_updated+1) * Ts\n",
        "\n",
        "new_inactive_time = superframe_time - new_active_time\n",
        "\n",
        "new_duty_cycle = (new_active_time / superframe_time) * 100\n",
        "\n",
        "print(f\"New duty cycle: {new_duty_cycle:.4f} %\")"
      ],
      "metadata": {
        "colab": {
          "base_uri": "https://localhost:8080/"
        },
        "id": "EJ8G7Yc1-7Sb",
        "outputId": "f11c697d-9d1f-41ef-e55d-337e89506ef9"
      },
      "execution_count": 65,
      "outputs": [
        {
          "output_type": "stream",
          "name": "stdout",
          "text": [
            "New duty cycle: 11.5917 %\n"
          ]
        }
      ]
    },
    {
      "cell_type": "markdown",
      "source": [
        "> We can conclude that 2 is the correct response."
      ],
      "metadata": {
        "id": "HiSMn_BSAB5b"
      }
    }
  ]
}