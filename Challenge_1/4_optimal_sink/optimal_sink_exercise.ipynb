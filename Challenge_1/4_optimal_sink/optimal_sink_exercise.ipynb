{
  "cells": [
    {
      "cell_type": "code",
      "execution_count": 1,
      "metadata": {
        "id": "ogfyaDqOPe5z"
      },
      "outputs": [],
      "source": [
        "import matplotlib.pyplot as plt\n",
        "import math"
      ]
    },
    {
      "cell_type": "markdown",
      "metadata": {
        "id": "bhlxp2k3R9G1"
      },
      "source": [
        "# Constant"
      ]
    },
    {
      "cell_type": "markdown",
      "metadata": {
        "id": "d4n-qkvJR_9c"
      },
      "source": [
        "Energy to send a packet"
      ]
    },
    {
      "cell_type": "code",
      "execution_count": 2,
      "metadata": {
        "colab": {
          "base_uri": "https://localhost:8080/"
        },
        "id": "LtANdTaLR-86",
        "outputId": "193faff0-9ee9-43a7-895e-0bb4e07b58cb"
      },
      "outputs": [
        {
          "name": "stdout",
          "output_type": "stream",
          "text": [
            "Energy necessary to send a packet:  100000 nJ\n"
          ]
        }
      ],
      "source": [
        "EnergyTxRxCircuitry = 50     #nJ/bit\n",
        "packet = 2000       #bit\n",
        "k = 1               #nJ/bit/m²\n",
        "\n",
        "battery = 5         #mJ\n",
        "\n",
        "PacketEnergy = packet*EnergyTxRxCircuitry\n",
        "print(\"Energy necessary to send a packet: \", PacketEnergy, \"nJ\")\n"
      ]
    },
    {
      "cell_type": "markdown",
      "metadata": {
        "id": "vki9I8xYWmSh"
      },
      "source": [
        "# Finding system's lifetime"
      ]
    },
    {
      "cell_type": "markdown",
      "metadata": {
        "id": "DJVDMGT9Pj8n"
      },
      "source": [
        "Sensors positioning"
      ]
    },
    {
      "cell_type": "code",
      "execution_count": 3,
      "metadata": {
        "id": "k-1wKIZAPigc"
      },
      "outputs": [],
      "source": [
        "sensors = [(1,2), (10,3), (4,8), (15,7), (6,1), (9,12), (14,4), (3, 10), (7,7), (12, 14)]\n",
        "sink = (20,20)\n",
        "x_coords = [sensor[0] for sensor in sensors]\n",
        "y_coords = [sensor[1] for sensor in sensors]"
      ]
    },
    {
      "cell_type": "markdown",
      "metadata": {
        "id": "S9qIySGCP0VO"
      },
      "source": [
        "Plot of the sensors"
      ]
    },
    {
      "cell_type": "code",
      "execution_count": 4,
      "metadata": {
        "colab": {
          "base_uri": "https://localhost:8080/",
          "height": 472
        },
        "id": "YLeWrq6tP2wi",
        "outputId": "a8b98b0d-c572-474a-98f9-620ea686b51d"
      },
      "outputs": [
        {
          "data": {
            "image/png": "[encoded data removed]",
            "text/plain": [
              "<Figure size 640x480 with 1 Axes>"
            ]
          },
          "metadata": {},
          "output_type": "display_data"
        }
      ],
      "source": [
        "plt.scatter(x_coords, y_coords, color='b', label='sensors')\n",
        "\n",
        "plt.scatter(20, 20, color='r', marker='o', s=100, label='sink')\n",
        "\n",
        "plt.xlabel('X Coord')\n",
        "plt.ylabel('Y Coord')\n",
        "plt.title('Sensors Positioning in Parking Lot')\n",
        "\n",
        "plt.legend()\n",
        "\n",
        "plt.show()"
      ]
    },
    {
      "cell_type": "markdown",
      "metadata": {
        "id": "kIS7gFdVR743"
      },
      "source": [
        "Computing the distances from each node to the sink"
      ]
    },
    {
      "cell_type": "code",
      "execution_count": 5,
      "metadata": {
        "colab": {
          "base_uri": "https://localhost:8080/"
        },
        "id": "YiScjjXjTlJ8",
        "outputId": "79aeda92-adf0-483c-e67c-1970030ea199"
      },
      "outputs": [
        {
          "name": "stdout",
          "output_type": "stream",
          "text": [
            "Distance from the the node (1, 2) to the sink is: 26.17 meters\n",
            "Distance from the the node (10, 3) to the sink is: 19.72 meters\n",
            "Distance from the the node (4, 8) to the sink is: 20.00 meters\n",
            "Distance from the the node (15, 7) to the sink is: 13.93 meters\n",
            "Distance from the the node (6, 1) to the sink is: 23.60 meters\n",
            "Distance from the the node (9, 12) to the sink is: 13.60 meters\n",
            "Distance from the the node (14, 4) to the sink is: 17.09 meters\n",
            "Distance from the the node (3, 10) to the sink is: 19.72 meters\n",
            "Distance from the the node (7, 7) to the sink is: 18.38 meters\n",
            "Distance from the the node (12, 14) to the sink is: 10.00 meters\n"
          ]
        }
      ],
      "source": [
        "distances = [math.sqrt((x - sink[0])**2 + (y - sink[1])**2) for x, y in sensors]\n",
        "max = -1\n",
        "for i, dist in enumerate(distances):\n",
        "    print(f\"Distance from the the node {sensors[i]} to the sink is: {dist:.2f} meters\")\n",
        "    if(dist > max):\n",
        "        max = dist"
      ]
    },
    {
      "cell_type": "markdown",
      "metadata": {
        "id": "Z__9azYDVkMo"
      },
      "source": [
        "All the nodes will consume the same amount of energy to power the transmission circuitry, so the node which is furthest from the sink will consume more energy to transmit the payload, so it will finish the battery earlier"
      ]
    },
    {
      "cell_type": "code",
      "execution_count": 6,
      "metadata": {
        "colab": {
          "base_uri": "https://localhost:8080/"
        },
        "id": "YMBR-h30Ygu8",
        "outputId": "e4047991-9514-4e31-e603-f8a26f4ff086"
      },
      "outputs": [
        {
          "name": "stdout",
          "output_type": "stream",
          "text": [
            "Max transmission energy:  685.0  nJ/bit\n"
          ]
        }
      ],
      "source": [
        "MaxTransmissionEnergy = k*max**2 #nJ/bit\n",
        "print(\"Max transmission energy: \", MaxTransmissionEnergy,\" nJ/bit\")"
      ]
    },
    {
      "cell_type": "markdown",
      "metadata": {
        "id": "jHFEXvCeemdh"
      },
      "source": [
        "Total energy consumption of the furthest node"
      ]
    },
    {
      "cell_type": "code",
      "execution_count": 7,
      "metadata": {
        "colab": {
          "base_uri": "https://localhost:8080/"
        },
        "id": "V3qUFIhgeqsk",
        "outputId": "bc610867-9e93-4c88-ed97-28ab4df2da34"
      },
      "outputs": [
        {
          "name": "stdout",
          "output_type": "stream",
          "text": [
            "Total consumed energy: 735.0  nJ\n"
          ]
        }
      ],
      "source": [
        "TotEnergy= EnergyTxRxCircuitry + MaxTransmissionEnergy\n",
        "print(\"Total consumed energy:\", TotEnergy,\" nJ\")"
      ]
    },
    {
      "cell_type": "markdown",
      "metadata": {
        "id": "OeCN6ONUZJOB"
      },
      "source": [
        "Number of **cycles** needed to consume the battery:  "
      ]
    },
    {
      "cell_type": "code",
      "execution_count": 8,
      "metadata": {
        "colab": {
          "base_uri": "https://localhost:8080/"
        },
        "id": "I_709D-cZSM8",
        "outputId": "2f348562-1915-4fcc-e0ce-7e9fe5916399"
      },
      "outputs": [
        {
          "name": "stdout",
          "output_type": "stream",
          "text": [
            "Power cycles:  6.802721088435375\n",
            "Lifetime: 68.03 minutes\n"
          ]
        }
      ],
      "source": [
        "cycles = battery / (TotEnergy/10e2)\n",
        "print(\"Power cycles: \", cycles)\n",
        "print(f\"Lifetime: {cycles * 10:.2f} minutes\")"
      ]
    },
    {
      "cell_type": "markdown",
      "metadata": {
        "id": "HzLy5QvIafI5"
      },
      "source": [
        "# Optimal sink position"
      ]
    },
    {
      "cell_type": "markdown",
      "metadata": {
        "id": "bm7vlJCjai9A"
      },
      "source": [
        "To determine the optimal position of the sink while minimizing the total distance to all sensors, the sink should be positioned at the average x and y position of the nodes. This can be demonstrated to be true using mathematical analysis: define the cost function as the sum of all transmission costs, derive in x and y parameters and find the value of each parameter where the derivatives are null.\n",
        "\n",
        "$$\n",
        "S = \\sum_{i=1}^{10} E_{tx}(d) = \\sum_{i=1}^{10} k \\cdot d^2 = \\sum_{i=1}^{10} k \\cdot \\left( \\sqrt{(x_i - x)^2 + (y_i - y)^2} \\right)^2\n",
        "$$\n",
        "\n",
        "$$\n",
        "S = \\sum_{i=1}^{10} E_{tx}(d) = \\sum_{i=1}^{10} k \\cdot d^2 = \\sum_{i=1}^{10} k \\cdot \\left( (x_i - x)^2 + (y_i - y)^2 \\right)\n",
        "$$\n",
        "\n",
        "### **Partial Derivative with respect to x**  \n",
        "To find the minimum, differentiate _S_ with respect to _x_:\n",
        "\n",
        "$$\n",
        "\\frac{\\partial S}{\\partial x} = \\sum_{i=1}^{10} k \\cdot 2 (x - x_i)\n",
        "$$\n",
        "\n",
        "Setting this derivative equal to zero:\n",
        "\n",
        "$$\n",
        "\\sum_{i=1}^{10} k \\cdot 2 (x - x_i) = 0\n",
        "$$\n",
        "\n",
        "$$\n",
        "\\sum_{i=1}^{10} (x_s - x_i) = 0\n",
        "$$\n",
        "\n",
        "$$\n",
        "x_s = \\frac{1}{10} \\sum_{i=1}^{10} x_i\n",
        "$$\n",
        "\n",
        "_S_ is the **arithmetic mean** of the values _xi_.\n",
        "\n",
        "Similarly can be done with the partial derivative wrt _y_, so it's possible to affirm that the point that minimizes the trasmission cost is simply the **arithmetic mean of the points**:\n",
        "\n",
        "$$\n",
        "(x_s, y_s) = \\left( \\frac{1}{10} \\sum_{i=1}^{10} x_i, \\frac{1}{10} \\sum_{i=1}^{10} y_i \\right)\n",
        "$$\n",
        "\n",
        "This means that the optimal transmission position is at the **average** location of all points\n"
      ]
    },
    {
      "cell_type": "code",
      "execution_count": 9,
      "metadata": {
        "colab": {
          "base_uri": "https://localhost:8080/"
        },
        "id": "OvyTFlARag3f",
        "outputId": "963bdd9b-1655-40c7-ee55-044da420a22c"
      },
      "outputs": [
        {
          "name": "stdout",
          "output_type": "stream",
          "text": [
            "Optimal coordinates for the sink:  (8.1, 6.8)\n"
          ]
        }
      ],
      "source": [
        "meanX = sum(x_coords) / len(x_coords)\n",
        "meanY = sum(y_coords) / len(y_coords)\n",
        "\n",
        "optimal_sink = (meanX, meanY)\n",
        "optimal_sink_x = optimal_sink[0]\n",
        "optimal_sink_y = optimal_sink[1]\n",
        "\n",
        "print(\"Optimal coordinates for the sink: \", optimal_sink)"
      ]
    },
    {
      "cell_type": "code",
      "execution_count": 10,
      "metadata": {
        "colab": {
          "base_uri": "https://localhost:8080/",
          "height": 472
        },
        "id": "ESu2OUT2b2Cl",
        "outputId": "c36f93df-e687-409e-d29c-4d379266682f"
      },
      "outputs": [
        {
          "data": {
            "image/png": "[encoded data removed]",
            "text/plain": [
              "<Figure size 640x480 with 1 Axes>"
            ]
          },
          "metadata": {},
          "output_type": "display_data"
        }
      ],
      "source": [
        "plt.scatter(x_coords, y_coords, color='b', label='Sensors')\n",
        "\n",
        "plt.scatter(optimal_sink[0], optimal_sink[1], color='r', marker='x', s=150, label='optimal Sink')\n",
        "\n",
        "plt.xlabel('X Coordinate')\n",
        "plt.ylabel('Y Coordinate')\n",
        "plt.title('Sensors Positioning in Parking Lot with optimal Sink')\n",
        "\n",
        "plt.legend()\n",
        "plt.show()"
      ]
    },
    {
      "cell_type": "markdown",
      "metadata": {},
      "source": [
        "# Trade offs of a mobile sink\n",
        "\n",
        "A mobile sink forces sensors to adjust their transmission power dynamically, which can increase the energy consumption.\n",
        "If the sink moves too far, some nodes may not reach the sink and will be forced to retransmit data, if reliabile communication protocols are used, otherwise the data will be lost.\n",
        "\n",
        "The position granting the lowest energy consumption is one and so it would not be useful in terms of energy consumes to implement a dynamical sink."
      ]
    }
  ],
  "metadata": {
    "colab": {
      "provenance": []
    },
    "kernelspec": {
      "display_name": "usr",
      "language": "python",
      "name": "python3"
    },
    "language_info": {
      "codemirror_mode": {
        "name": "ipython",
        "version": 3
      },
      "file_extension": ".py",
      "mimetype": "text/x-python",
      "name": "python",
      "nbconvert_exporter": "python",
      "pygments_lexer": "ipython3",
      "version": "3.12.3"
    }
  },
  "nbformat": 4,
  "nbformat_minor": 0
}
