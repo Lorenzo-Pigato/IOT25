{
  "nbformat": 4,
  "nbformat_minor": 0,
  "metadata": {
    "colab": {
      "provenance": []
    },
    "kernelspec": {
      "name": "python3",
      "display_name": "Python 3"
    },
    "language_info": {
      "name": "python"
    }
  },
  "cells": [
    {
      "cell_type": "code",
      "execution_count": 20,
      "metadata": {
        "id": "ogfyaDqOPe5z"
      },
      "outputs": [],
      "source": [
        "import matplotlib.pyplot as plt\n",
        "import math"
      ]
    },
    {
      "cell_type": "markdown",
      "source": [
        "# Constant"
      ],
      "metadata": {
        "id": "bhlxp2k3R9G1"
      }
    },
    {
      "cell_type": "markdown",
      "source": [
        "Energy to send a packet"
      ],
      "metadata": {
        "id": "d4n-qkvJR_9c"
      }
    },
    {
      "cell_type": "code",
      "source": [
        "EnergyTxRxSensor = 50 #nJ/bit\n",
        "packet = 2000 #bit\n",
        "k = 1 #nJ/bit/m²\n",
        "\n",
        "EnergyToSendAPacket = packet*EnergyTxRxSensor\n",
        "print(EnergyToSendAPacket, \"nJ\")"
      ],
      "metadata": {
        "colab": {
          "base_uri": "https://localhost:8080/"
        },
        "id": "LtANdTaLR-86",
        "outputId": "193faff0-9ee9-43a7-895e-0bb4e07b58cb"
      },
      "execution_count": 26,
      "outputs": [
        {
          "output_type": "stream",
          "name": "stdout",
          "text": [
            "100000 nJ\n"
          ]
        }
      ]
    },
    {
      "cell_type": "markdown",
      "source": [
        "Battery of the sensors"
      ],
      "metadata": {
        "id": "kNDebd5zWW5_"
      }
    },
    {
      "cell_type": "code",
      "source": [
        "battery = 5 #mJ"
      ],
      "metadata": {
        "id": "9q0NYZPpWezW"
      },
      "execution_count": 25,
      "outputs": []
    },
    {
      "cell_type": "markdown",
      "source": [
        "# First point"
      ],
      "metadata": {
        "id": "vki9I8xYWmSh"
      }
    },
    {
      "cell_type": "markdown",
      "source": [
        "Sensors positioning"
      ],
      "metadata": {
        "id": "DJVDMGT9Pj8n"
      }
    },
    {
      "cell_type": "code",
      "source": [
        "sensors = [(1,2), (10,3), (4,8), (16,7), (6,1), (9,12), (14,4), (3, 10), (7,7), (12, 14)]\n",
        "sink = (20,20)\n",
        "x_coords = [sensor[0] for sensor in sensors]\n",
        "y_coords = [sensor[1] for sensor in sensors]"
      ],
      "metadata": {
        "id": "k-1wKIZAPigc"
      },
      "execution_count": 17,
      "outputs": []
    },
    {
      "cell_type": "markdown",
      "source": [
        "Plot of the sensors"
      ],
      "metadata": {
        "id": "S9qIySGCP0VO"
      }
    },
    {
      "cell_type": "code",
      "source": [
        "plt.scatter(x_coords, y_coords, color='b', label='sensors')\n",
        "\n",
        "# Aggiungere il punto speciale (20,20) con un colore diverso\n",
        "plt.scatter(20, 20, color='r', marker='o', s=100, label='sink')\n",
        "\n",
        "# Aggiungere etichette e titolo\n",
        "plt.xlabel('X Coord')\n",
        "plt.ylabel('Y Coord')\n",
        "plt.title('Sensors Positioning in Parking Lot')\n",
        "\n",
        "# Aggiungere legenda\n",
        "plt.legend()\n",
        "\n",
        "# Mostrare il grafico\n",
        "plt.show()"
      ],
      "metadata": {
        "colab": {
          "base_uri": "https://localhost:8080/",
          "height": 472
        },
        "id": "YLeWrq6tP2wi",
        "outputId": "a8b98b0d-c572-474a-98f9-620ea686b51d"
      },
      "execution_count": 18,
      "outputs": [
        {
          "output_type": "display_data",
          "data": {
            "text/plain": [
              "<Figure size 640x480 with 1 Axes>"
            ],
            "image/png": "[encoded data removed]"
          },
          "metadata": {}
        }
      ]
    },
    {
      "cell_type": "markdown",
      "source": [
        "Computing the distance it's obtained"
      ],
      "metadata": {
        "id": "kIS7gFdVR743"
      }
    },
    {
      "cell_type": "code",
      "source": [
        "distances = [math.sqrt((x - sink[0])**2 + (y - sink[1])**2) for x, y in sensors]\n",
        "max = -1\n",
        "for i, dist in enumerate(distances):\n",
        "    print(f\"Distance from the the sennsor {sensors[i]} to the sink is: {dist:.2f} meters\")\n",
        "    if(dist > max):\n",
        "        max = dist"
      ],
      "metadata": {
        "colab": {
          "base_uri": "https://localhost:8080/"
        },
        "id": "YiScjjXjTlJ8",
        "outputId": "79aeda92-adf0-483c-e67c-1970030ea199"
      },
      "execution_count": 43,
      "outputs": [
        {
          "output_type": "stream",
          "name": "stdout",
          "text": [
            "Distance from the the sennsor (1, 2) to the sink is: 26.17 meters\n",
            "Distance from the the sennsor (10, 3) to the sink is: 19.72 meters\n",
            "Distance from the the sennsor (4, 8) to the sink is: 20.00 meters\n",
            "Distance from the the sennsor (16, 7) to the sink is: 13.60 meters\n",
            "Distance from the the sennsor (6, 1) to the sink is: 23.60 meters\n",
            "Distance from the the sennsor (9, 12) to the sink is: 13.60 meters\n",
            "Distance from the the sennsor (14, 4) to the sink is: 17.09 meters\n",
            "Distance from the the sennsor (3, 10) to the sink is: 19.72 meters\n",
            "Distance from the the sennsor (7, 7) to the sink is: 18.38 meters\n",
            "Distance from the the sennsor (12, 14) to the sink is: 10.00 meters\n"
          ]
        }
      ]
    },
    {
      "cell_type": "markdown",
      "source": [
        "Based on the distance, the farthest sensor from the sink will consume more energy, and for this reason will finish the battery earlier"
      ],
      "metadata": {
        "id": "Z__9azYDVkMo"
      }
    },
    {
      "cell_type": "code",
      "source": [
        "EnergyForTrasmission= k*max**2 #nJ/bit\n",
        "print(EnergyForTrasmission,\" nJ/bit\")"
      ],
      "metadata": {
        "colab": {
          "base_uri": "https://localhost:8080/"
        },
        "id": "YMBR-h30Ygu8",
        "outputId": "e4047991-9514-4e31-e603-f8a26f4ff086"
      },
      "execution_count": 33,
      "outputs": [
        {
          "output_type": "stream",
          "name": "stdout",
          "text": [
            "685.0  nJ/bit\n"
          ]
        }
      ]
    },
    {
      "cell_type": "markdown",
      "source": [
        "Total Energy"
      ],
      "metadata": {
        "id": "jHFEXvCeemdh"
      }
    },
    {
      "cell_type": "code",
      "source": [
        "TotEnergy= EnergyToSendAPacket + EnergyForTrasmission\n",
        "print(TotEnergy,\" nJ\")"
      ],
      "metadata": {
        "colab": {
          "base_uri": "https://localhost:8080/"
        },
        "id": "V3qUFIhgeqsk",
        "outputId": "bc610867-9e93-4c88-ed97-28ab4df2da34"
      },
      "execution_count": 40,
      "outputs": [
        {
          "output_type": "stream",
          "name": "stdout",
          "text": [
            "100685.0  nJ\n"
          ]
        }
      ]
    },
    {
      "cell_type": "markdown",
      "source": [
        "The **cycles** needed to consume the battery are:  "
      ],
      "metadata": {
        "id": "OeCN6ONUZJOB"
      }
    },
    {
      "cell_type": "code",
      "source": [
        "cycles = battery * 1000000 / TotEnergy\n",
        "print(cycles)"
      ],
      "metadata": {
        "colab": {
          "base_uri": "https://localhost:8080/"
        },
        "id": "I_709D-cZSM8",
        "outputId": "2f348562-1915-4fcc-e0ce-7e9fe5916399"
      },
      "execution_count": 41,
      "outputs": [
        {
          "output_type": "stream",
          "name": "stdout",
          "text": [
            "49.65983016338084\n"
          ]
        }
      ]
    },
    {
      "cell_type": "markdown",
      "source": [
        "# Second point"
      ],
      "metadata": {
        "id": "HzLy5QvIafI5"
      }
    },
    {
      "cell_type": "markdown",
      "source": [
        "To determine the optimal position of the sink while minimizing the total distance to all sensors, we propose placing the sink at the center of the dataset"
      ],
      "metadata": {
        "id": "bm7vlJCjai9A"
      }
    },
    {
      "cell_type": "code",
      "source": [
        "meanX = sum(x_coords) / len(x_coords)\n",
        "meanY = sum(y_coords) / len(y_coords)\n",
        "\n",
        "optimal_sink = (meanX, meanY)\n",
        "optimal_sink_x = optimal_sink[0]\n",
        "optimal_sink_y = optimal_sink[1]\n",
        "\n",
        "print(optimal_sink)"
      ],
      "metadata": {
        "colab": {
          "base_uri": "https://localhost:8080/"
        },
        "id": "OvyTFlARag3f",
        "outputId": "963bdd9b-1655-40c7-ee55-044da420a22c"
      },
      "execution_count": 35,
      "outputs": [
        {
          "output_type": "stream",
          "name": "stdout",
          "text": [
            "(8.2, 6.8)\n"
          ]
        }
      ]
    },
    {
      "cell_type": "code",
      "source": [
        "plt.scatter(x_coords, y_coords, color='b', label='Sensors')\n",
        "\n",
        "plt.scatter(optimal_sink[0], optimal_sink[1], color='r', marker='x', s=150, label='optimal Sink')\n",
        "\n",
        "plt.xlabel('X Coordinate')\n",
        "plt.ylabel('Y Coordinate')\n",
        "plt.title('Sensors Positioning in Parking Lot with optimal Sink')\n",
        "\n",
        "plt.legend()\n",
        "plt.show()"
      ],
      "metadata": {
        "colab": {
          "base_uri": "https://localhost:8080/",
          "height": 472
        },
        "id": "ESu2OUT2b2Cl",
        "outputId": "c36f93df-e687-409e-d29c-4d379266682f"
      },
      "execution_count": 39,
      "outputs": [
        {
          "output_type": "display_data",
          "data": {
            "text/plain": [
              "<Figure size 640x480 with 1 Axes>"
            ],
            "image/png": "[encoded data removed]"
          },
          "metadata": {}
        }
      ]
    },
    {
      "cell_type": "markdown",
      "source": [
        "# Third point"
      ],
      "metadata": {
        "id": "szuVXWKkcODj"
      }
    },
    {
      "cell_type": "markdown",
      "source": [
        "Since we have identified the optimal sink position that minimizes energy consumption for the sensors, any other placement of the sink will be sub-optimal, leading to lower performance and increased energy consumption."
      ],
      "metadata": {
        "id": "XPqgHLWJcRq4"
      }
    },
    {
      "cell_type": "markdown",
      "source": [
        "Consider the impact on system lifetime and energy consumption of each\n",
        "sensor ????"
      ],
      "metadata": {
        "id": "OUVBNh2IcP-A"
      }
    }
  ]
}